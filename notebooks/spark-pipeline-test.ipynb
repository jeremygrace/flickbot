{
 "cells": [
  {
   "cell_type": "code",
   "execution_count": 61,
   "metadata": {
    "collapsed": false,
    "deletable": true,
    "editable": true
   },
   "outputs": [],
   "source": [
    "up = spark.read.json(\"s3a://flickbot-api/upcoming.json\")\n",
    "now = spark.read.json(\"s3a://flickbot-api/now_playing.json\")\n",
    "coming_trailers = spark.read.json(\"s3a://flickbot-api/coming_trailers.json\")\n",
    "now_trailers = spark.read.json(\"s3a://flickbot-api/now_trailers.json\")"
   ]
  },
  {
   "cell_type": "code",
   "execution_count": 62,
   "metadata": {
    "collapsed": false,
    "deletable": true,
    "editable": true
   },
   "outputs": [
    {
     "name": "stdout",
     "output_type": "stream",
     "text": [
      "root\n",
      " |-- genre: string (nullable = true)\n",
      " |-- rated: string (nullable = true)\n",
      " |-- timestamp: string (nullable = true)\n",
      " |-- title: string (nullable = true)\n",
      "\n"
     ]
    }
   ],
   "source": [
    "up.printSchema()"
   ]
  },
  {
   "cell_type": "code",
   "execution_count": 63,
   "metadata": {
    "collapsed": false,
    "deletable": true,
    "editable": true
   },
   "outputs": [
    {
     "name": "stdout",
     "output_type": "stream",
     "text": [
      "+---------+-----+-------------------+--------------------+\n",
      "|    genre|rated|          timestamp|               title|\n",
      "+---------+-----+-------------------+--------------------+\n",
      "| Thriller|    R|2017-03-09 03:35:30|John Wick: Chapter 2|\n",
      "|    Drama|PG-13|2017-03-09 03:35:30|               Split|\n",
      "|  Fantasy|   PG|2017-03-09 03:35:30|Beauty and the Beast|\n",
      "|   Action|    R|2017-03-09 03:35:30|Underworld: Blood...|\n",
      "|  Fantasy|   PG|2017-03-09 03:35:30|The Lego Batman M...|\n",
      "|    Drama|    R|2017-03-09 03:35:30| A Cure for Wellness|\n",
      "|    Crime|    R|2017-03-09 03:35:30|    T2 Trainspotting|\n",
      "|   Action|    R|2017-03-09 03:35:30|       The Nice Guys|\n",
      "|   Horror| null|2017-03-09 03:35:30|                Life|\n",
      "|   Horror|    R|2017-03-09 03:35:30|                 Raw|\n",
      "|Animation|   PG|2017-03-09 03:35:30|          Your Name.|\n",
      "|   Action| null|2017-03-09 03:35:30|  Ghost in the Shell|\n",
      "|    Drama|PG-13|2017-03-09 03:35:30|           The Shack|\n",
      "|   Action|PG-13|2017-03-09 03:35:30|Keeping Up with t...|\n",
      "|   Comedy|   PG|2017-03-09 03:35:30|     A Dog's Purpose|\n",
      "|  Romance|PG-13|2017-03-09 03:35:30|The Space Between Us|\n",
      "|    Drama|PG-13|2017-03-09 03:35:30|        The Salesman|\n",
      "|   Action|PG-13|2017-03-09 03:35:30|       Power Rangers|\n",
      "|   Horror|    R|2017-03-09 03:35:30|   Don't Knock Twice|\n",
      "|    Drama|PG-13|2017-03-09 03:35:30|The Sense of an E...|\n",
      "+---------+-----+-------------------+--------------------+\n",
      "\n"
     ]
    }
   ],
   "source": [
    "up.show()"
   ]
  },
  {
   "cell_type": "code",
   "execution_count": 64,
   "metadata": {
    "collapsed": false,
    "deletable": true,
    "editable": true
   },
   "outputs": [
    {
     "name": "stdout",
     "output_type": "stream",
     "text": [
      "root\n",
      " |-- genre: string (nullable = true)\n",
      " |-- rated: string (nullable = true)\n",
      " |-- timestamp: string (nullable = true)\n",
      " |-- title: string (nullable = true)\n",
      "\n"
     ]
    }
   ],
   "source": [
    "now.printSchema()"
   ]
  },
  {
   "cell_type": "code",
   "execution_count": 65,
   "metadata": {
    "collapsed": false,
    "deletable": true,
    "editable": true
   },
   "outputs": [
    {
     "name": "stdout",
     "output_type": "stream",
     "text": [
      "+---------------+-----+-------------------+--------------------+\n",
      "|          genre|rated|          timestamp|               title|\n",
      "+---------------+-----+-------------------+--------------------+\n",
      "|          Drama|    R|2017-03-09 03:34:39| Fifty Shades Darker|\n",
      "|         Action|    R|2017-03-09 03:34:39|               Logan|\n",
      "|         Horror|PG-13|2017-03-09 03:34:39|               Rings|\n",
      "|          Drama|PG-13|2017-03-09 03:34:39|          La La Land|\n",
      "|          Drama|PG-13|2017-03-09 03:34:39|Miss Peregrine's ...|\n",
      "|          Drama|    R|2017-03-09 03:34:39|           Moonlight|\n",
      "|          Drama|    R|2017-03-09 03:34:39|       Hacksaw Ridge|\n",
      "|       Thriller|    R|2017-03-09 03:34:39|John Wick: Chapter 2|\n",
      "|Science Fiction|PG-13|2017-03-09 03:34:39|  Kong: Skull Island|\n",
      "|         Comedy|    R|2017-03-09 03:34:39|             Get Out|\n",
      "|          Drama|PG-13|2017-03-09 03:34:39|               Split|\n",
      "|        History|   PG|2017-03-09 03:34:39|      Hidden Figures|\n",
      "|          Drama|    R|2017-03-09 03:34:39|Manchester by the...|\n",
      "|          Drama|PG-13|2017-03-09 03:34:39|              Fences|\n",
      "|        Fantasy|   PG|2017-03-09 03:34:39|Beauty and the Beast|\n",
      "|         Action|    R|2017-03-09 03:34:39|Underworld: Blood...|\n",
      "|      Adventure|   PG|2017-03-09 03:34:39|              Trolls|\n",
      "|        Fantasy|   PG|2017-03-09 03:34:39|The Lego Batman M...|\n",
      "|          Drama|    R|2017-03-09 03:34:39|   Nocturnal Animals|\n",
      "|          Drama|    R|2017-03-09 03:34:39| A Cure for Wellness|\n",
      "+---------------+-----+-------------------+--------------------+\n",
      "\n"
     ]
    }
   ],
   "source": [
    "now.show()"
   ]
  },
  {
   "cell_type": "code",
   "execution_count": 66,
   "metadata": {
    "collapsed": false,
    "deletable": true,
    "editable": true
   },
   "outputs": [
    {
     "name": "stdout",
     "output_type": "stream",
     "text": [
      "root\n",
      " |-- title: string (nullable = true)\n",
      " |-- url: string (nullable = true)\n",
      "\n"
     ]
    }
   ],
   "source": [
    "coming_trailers.printSchema()"
   ]
  },
  {
   "cell_type": "code",
   "execution_count": 67,
   "metadata": {
    "collapsed": false,
    "deletable": true,
    "editable": true
   },
   "outputs": [
    {
     "name": "stdout",
     "output_type": "stream",
     "text": [
      "+--------------------+-----------+\n",
      "|               title|        url|\n",
      "+--------------------+-----------+\n",
      "|John Wick: Chapter 2|XGk2EfbD_Ps|\n",
      "|               Split|84TouqfIsiI|\n",
      "|Beauty and the Beast|axySrE0Kg6k|\n",
      "|Underworld: Blood...|rKHL5PyAPzs|\n",
      "|The Lego Batman M...|rGQUKzSDhrg|\n",
      "| A Cure for Wellness|JF1rLFCdewU|\n",
      "|    T2 Trainspotting|EsozpEE543w|\n",
      "|       The Nice Guys|MxW4LZCYfvs|\n",
      "|                Life|cuA-xqBw4jE|\n",
      "|                 Raw|BGWTu_5gorI|\n",
      "|          Your Name.|a2GujJZfXpg|\n",
      "|  Ghost in the Shell|tRkb1X9ovI4|\n",
      "|           The Shack|CL0yUbSS5Eg|\n",
      "|Keeping Up with t...|nPfYXXg65qA|\n",
      "|     A Dog's Purpose|1jLOOCADTGs|\n",
      "|The Space Between Us|x73-573aWfs|\n",
      "|        The Salesman|NHHZjuQB3zU|\n",
      "|       Power Rangers|5kIe6UZHSXw|\n",
      "|   Don't Knock Twice|lK-MtPRPbcU|\n",
      "|The Sense of an E...|pYLNTQGpNQ0|\n",
      "+--------------------+-----------+\n",
      "\n"
     ]
    }
   ],
   "source": [
    "coming_trailers.show()"
   ]
  },
  {
   "cell_type": "code",
   "execution_count": 68,
   "metadata": {
    "collapsed": false,
    "deletable": true,
    "editable": true
   },
   "outputs": [
    {
     "name": "stdout",
     "output_type": "stream",
     "text": [
      "root\n",
      " |-- title: string (nullable = true)\n",
      " |-- url: string (nullable = true)\n",
      "\n"
     ]
    }
   ],
   "source": [
    "now_trailers.printSchema()"
   ]
  },
  {
   "cell_type": "code",
   "execution_count": 69,
   "metadata": {
    "collapsed": false,
    "deletable": true,
    "editable": true
   },
   "outputs": [
    {
     "name": "stdout",
     "output_type": "stream",
     "text": [
      "+--------------------+-----------+\n",
      "|               title|        url|\n",
      "+--------------------+-----------+\n",
      "| Fifty Shades Darker|vnLqJLeTMVU|\n",
      "|               Logan|RH3OxVFvTeg|\n",
      "|               Rings|uukQ_6szDm8|\n",
      "|          La La Land|0pdqf4P9MB8|\n",
      "|Miss Peregrine's ...|tV_IhWE4LP0|\n",
      "|           Moonlight|9NJj12tJzqc|\n",
      "|       Hacksaw Ridge|s2-1hz1juBI|\n",
      "|John Wick: Chapter 2|XGk2EfbD_Ps|\n",
      "|  Kong: Skull Island|44LdLqgOpjo|\n",
      "|             Get Out|sRfnevzM9kQ|\n",
      "|               Split|84TouqfIsiI|\n",
      "|      Hidden Figures|RK8xHq6dfAo|\n",
      "|Manchester by the...|gsVoD0pTge0|\n",
      "|              Fences|jj-ZYPVRQbc|\n",
      "|Beauty and the Beast|axySrE0Kg6k|\n",
      "|Underworld: Blood...|rKHL5PyAPzs|\n",
      "|              Trolls|oWgTqLCLE8k|\n",
      "|The Lego Batman M...|rGQUKzSDhrg|\n",
      "|   Nocturnal Animals|-H1Ii1LjyFU|\n",
      "| A Cure for Wellness|JF1rLFCdewU|\n",
      "+--------------------+-----------+\n",
      "\n"
     ]
    }
   ],
   "source": [
    "now_trailers.show()"
   ]
  },
  {
   "cell_type": "code",
   "execution_count": 53,
   "metadata": {
    "collapsed": true,
    "deletable": true,
    "editable": true
   },
   "outputs": [],
   "source": [
    "now_playing = now.join(now_trailers, ['title'])"
   ]
  },
  {
   "cell_type": "code",
   "execution_count": 54,
   "metadata": {
    "collapsed": false,
    "deletable": true,
    "editable": true
   },
   "outputs": [
    {
     "data": {
      "text/plain": [
       "DataFrame[title: string, genre: string, rated: string, timestamp: string, url: string]"
      ]
     },
     "execution_count": 54,
     "metadata": {},
     "output_type": "execute_result"
    }
   ],
   "source": [
    "now_playing"
   ]
  },
  {
   "cell_type": "code",
   "execution_count": 55,
   "metadata": {
    "collapsed": false,
    "deletable": true,
    "editable": true
   },
   "outputs": [
    {
     "data": {
      "text/plain": [
       "Row(title=u'Fifty Shades Darker', genre=u'Drama', rated=u'R', timestamp=u'2017-03-09 03:34:39', url=u'vnLqJLeTMVU')"
      ]
     },
     "execution_count": 55,
     "metadata": {},
     "output_type": "execute_result"
    }
   ],
   "source": [
    "now_playing.head()"
   ]
  },
  {
   "cell_type": "code",
   "execution_count": 56,
   "metadata": {
    "collapsed": false,
    "deletable": true,
    "editable": true
   },
   "outputs": [
    {
     "name": "stdout",
     "output_type": "stream",
     "text": [
      "+--------------------+---------------+-----+-------------------+-----------+\n",
      "|               title|          genre|rated|          timestamp|        url|\n",
      "+--------------------+---------------+-----+-------------------+-----------+\n",
      "| Fifty Shades Darker|          Drama|    R|2017-03-09 03:34:39|vnLqJLeTMVU|\n",
      "|               Logan|         Action|    R|2017-03-09 03:34:39|RH3OxVFvTeg|\n",
      "|               Rings|         Horror|PG-13|2017-03-09 03:34:39|uukQ_6szDm8|\n",
      "|          La La Land|          Drama|PG-13|2017-03-09 03:34:39|0pdqf4P9MB8|\n",
      "|Miss Peregrine's ...|          Drama|PG-13|2017-03-09 03:34:39|tV_IhWE4LP0|\n",
      "|           Moonlight|          Drama|    R|2017-03-09 03:34:39|9NJj12tJzqc|\n",
      "|       Hacksaw Ridge|          Drama|    R|2017-03-09 03:34:39|s2-1hz1juBI|\n",
      "|John Wick: Chapter 2|       Thriller|    R|2017-03-09 03:34:39|XGk2EfbD_Ps|\n",
      "|  Kong: Skull Island|Science Fiction|PG-13|2017-03-09 03:34:39|44LdLqgOpjo|\n",
      "|             Get Out|         Comedy|    R|2017-03-09 03:34:39|sRfnevzM9kQ|\n",
      "|               Split|          Drama|PG-13|2017-03-09 03:34:39|84TouqfIsiI|\n",
      "|      Hidden Figures|        History|   PG|2017-03-09 03:34:39|RK8xHq6dfAo|\n",
      "|Manchester by the...|          Drama|    R|2017-03-09 03:34:39|gsVoD0pTge0|\n",
      "|              Fences|          Drama|PG-13|2017-03-09 03:34:39|jj-ZYPVRQbc|\n",
      "|Beauty and the Beast|        Fantasy|   PG|2017-03-09 03:34:39|axySrE0Kg6k|\n",
      "|Underworld: Blood...|         Action|    R|2017-03-09 03:34:39|rKHL5PyAPzs|\n",
      "|              Trolls|      Adventure|   PG|2017-03-09 03:34:39|oWgTqLCLE8k|\n",
      "|The Lego Batman M...|        Fantasy|   PG|2017-03-09 03:34:39|rGQUKzSDhrg|\n",
      "|   Nocturnal Animals|          Drama|    R|2017-03-09 03:34:39|-H1Ii1LjyFU|\n",
      "| A Cure for Wellness|          Drama|    R|2017-03-09 03:34:39|JF1rLFCdewU|\n",
      "+--------------------+---------------+-----+-------------------+-----------+\n",
      "\n"
     ]
    }
   ],
   "source": [
    "now_playing.show()"
   ]
  },
  {
   "cell_type": "code",
   "execution_count": 73,
   "metadata": {
    "collapsed": false,
    "deletable": true,
    "editable": true
   },
   "outputs": [],
   "source": [
    "now_playing.write.parquet('s3a://flickbot-parquet/now_playing')"
   ]
  },
  {
   "cell_type": "code",
   "execution_count": 71,
   "metadata": {
    "collapsed": true,
    "deletable": true,
    "editable": true
   },
   "outputs": [],
   "source": [
    "upcoming = up.join(coming_trailers, ['title'])"
   ]
  },
  {
   "cell_type": "code",
   "execution_count": 72,
   "metadata": {
    "collapsed": false,
    "deletable": true,
    "editable": true
   },
   "outputs": [
    {
     "name": "stdout",
     "output_type": "stream",
     "text": [
      "+--------------------+---------+-----+-------------------+-----------+\n",
      "|               title|    genre|rated|          timestamp|        url|\n",
      "+--------------------+---------+-----+-------------------+-----------+\n",
      "|John Wick: Chapter 2| Thriller|    R|2017-03-09 03:35:30|XGk2EfbD_Ps|\n",
      "|               Split|    Drama|PG-13|2017-03-09 03:35:30|84TouqfIsiI|\n",
      "|Beauty and the Beast|  Fantasy|   PG|2017-03-09 03:35:30|axySrE0Kg6k|\n",
      "|Underworld: Blood...|   Action|    R|2017-03-09 03:35:30|rKHL5PyAPzs|\n",
      "|The Lego Batman M...|  Fantasy|   PG|2017-03-09 03:35:30|rGQUKzSDhrg|\n",
      "| A Cure for Wellness|    Drama|    R|2017-03-09 03:35:30|JF1rLFCdewU|\n",
      "|    T2 Trainspotting|    Crime|    R|2017-03-09 03:35:30|EsozpEE543w|\n",
      "|       The Nice Guys|   Action|    R|2017-03-09 03:35:30|MxW4LZCYfvs|\n",
      "|                Life|   Horror| null|2017-03-09 03:35:30|cuA-xqBw4jE|\n",
      "|                 Raw|   Horror|    R|2017-03-09 03:35:30|BGWTu_5gorI|\n",
      "|          Your Name.|Animation|   PG|2017-03-09 03:35:30|a2GujJZfXpg|\n",
      "|  Ghost in the Shell|   Action| null|2017-03-09 03:35:30|tRkb1X9ovI4|\n",
      "|           The Shack|    Drama|PG-13|2017-03-09 03:35:30|CL0yUbSS5Eg|\n",
      "|Keeping Up with t...|   Action|PG-13|2017-03-09 03:35:30|nPfYXXg65qA|\n",
      "|     A Dog's Purpose|   Comedy|   PG|2017-03-09 03:35:30|1jLOOCADTGs|\n",
      "|The Space Between Us|  Romance|PG-13|2017-03-09 03:35:30|x73-573aWfs|\n",
      "|        The Salesman|    Drama|PG-13|2017-03-09 03:35:30|NHHZjuQB3zU|\n",
      "|       Power Rangers|   Action|PG-13|2017-03-09 03:35:30|5kIe6UZHSXw|\n",
      "|   Don't Knock Twice|   Horror|    R|2017-03-09 03:35:30|lK-MtPRPbcU|\n",
      "|The Sense of an E...|    Drama|PG-13|2017-03-09 03:35:30|pYLNTQGpNQ0|\n",
      "+--------------------+---------+-----+-------------------+-----------+\n",
      "\n"
     ]
    }
   ],
   "source": [
    "upcoming.show()"
   ]
  },
  {
   "cell_type": "code",
   "execution_count": 74,
   "metadata": {
    "collapsed": true,
    "deletable": true,
    "editable": true
   },
   "outputs": [],
   "source": [
    "upcoming.write.parquet('s3a://flickbot-parquet/upcoming')"
   ]
  }
 ],
 "metadata": {
  "kernelspec": {
   "display_name": "Python 2",
   "language": "python",
   "name": "python2"
  },
  "language_info": {
   "codemirror_mode": {
    "name": "ipython",
    "version": 2
   },
   "file_extension": ".py",
   "mimetype": "text/x-python",
   "name": "python",
   "nbconvert_exporter": "python",
   "pygments_lexer": "ipython2",
   "version": "2.7.12"
  }
 },
 "nbformat": 4,
 "nbformat_minor": 2
}
