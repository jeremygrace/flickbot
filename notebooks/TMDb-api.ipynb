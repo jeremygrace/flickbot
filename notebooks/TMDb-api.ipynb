{
 "cells": [
  {
   "cell_type": "code",
   "execution_count": 46,
   "metadata": {
    "collapsed": true
   },
   "outputs": [],
   "source": [
    "reset -sf"
   ]
  },
  {
   "cell_type": "code",
   "execution_count": 47,
   "metadata": {
    "collapsed": true
   },
   "outputs": [],
   "source": [
    "import json\n",
    "import requests\n",
    "import time\n",
    "from pprint import pprint\n",
    "from datetime import datetime"
   ]
  },
  {
   "cell_type": "code",
   "execution_count": 48,
   "metadata": {
    "collapsed": false
   },
   "outputs": [],
   "source": [
    "in_theaters = \"https://api.themoviedb.org/3/movie/now_playing?api_key=95c58b7a3d4467f15e5af2ff0c2e61b6&language=en-US&page=1\"\n",
    "coming_soon = \"https://api.themoviedb.org/3/movie/upcoming?api_key=95c58b7a3d4467f15e5af2ff0c2e61b6&language=en-US&page=1\"\n"
   ]
  },
  {
   "cell_type": "code",
   "execution_count": 49,
   "metadata": {
    "collapsed": true
   },
   "outputs": [],
   "source": [
    "genres_url = \"https://api.themoviedb.org/3/genre/movie/list?api_key=95c58b7a3d4467f15e5af2ff0c2e61b6&language=en-US\""
   ]
  },
  {
   "cell_type": "code",
   "execution_count": 50,
   "metadata": {
    "collapsed": false,
    "scrolled": false
   },
   "outputs": [],
   "source": [
    "def pull_movie_data(url, dict_name, genres_url):\n",
    "    \n",
    "    payload1, payload2 = {}, {}\n",
    "    dict_name, simply_dict = {}, {}\n",
    "    \n",
    "    mov_response = requests.request(\"GET\", url, data=payload1)\n",
    "    genre_response = requests.request(\"GET\", genres_url, data=payload2 )\n",
    "    ts = time.time()\n",
    "    timestamp = datetime.fromtimestamp(ts).strftime(\"%Y-%m-%d %H:%M:%S\")\n",
    "    \n",
    "    mov_payload = json.loads(mov_response.text)\n",
    "    genre_payload = json.loads(genre_response.text)\n",
    "    \n",
    "    for genre in genre_payload['genres']:\n",
    "        simply_dict[genre['id']] = genre['name'].encode('utf-8')\n",
    "    \n",
    "    for movie in mov_payload['results']:\n",
    "        for key, val in simply_dict.items():\n",
    "            if key == movie['genre_ids'][0]:\n",
    "                genre = val\n",
    "        dict_name[movie['title'].encode('utf-8')] = {'genre': genre}\n",
    "    dict_name['time'] = timestamp\n",
    "    return(dict_name)\n"
   ]
  },
  {
   "cell_type": "code",
   "execution_count": 51,
   "metadata": {
    "collapsed": false
   },
   "outputs": [],
   "source": [
    "now_playing = pull_movie_data(in_theaters, 'now_playing', genres_url)\n",
    "# print('\\n')\n",
    "upcoming = pull_movie_data(coming_soon, 'upcoming', genres_url)"
   ]
  },
  {
   "cell_type": "code",
   "execution_count": 33,
   "metadata": {
    "collapsed": false
   },
   "outputs": [
    {
     "name": "stdout",
     "output_type": "stream",
     "text": [
      "{'Arrival': {'genre': 'Drama'},\n",
      " 'Fences': {'genre': 'Drama'},\n",
      " 'Fifty Shades Darker': {'genre': 'Drama'},\n",
      " 'Get Out': {'genre': 'Comedy'},\n",
      " 'Hacksaw Ridge': {'genre': 'Drama'},\n",
      " 'Hell or High Water': {'genre': 'Western'},\n",
      " 'Hidden Figures': {'genre': 'History'},\n",
      " 'John Wick: Chapter 2': {'genre': 'Thriller'},\n",
      " 'Kong: Skull Island': {'genre': 'Science Fiction'},\n",
      " 'La La Land': {'genre': 'Drama'},\n",
      " 'Lion': {'genre': 'Drama'},\n",
      " 'Logan': {'genre': 'Action'},\n",
      " 'Manchester by the Sea': {'genre': 'Drama'},\n",
      " \"Miss Peregrine's Home for Peculiar Children\": {'genre': 'Drama'},\n",
      " 'Moonlight': {'genre': 'Drama'},\n",
      " 'Nocturnal Animals': {'genre': 'Drama'},\n",
      " 'Rings': {'genre': 'Horror'},\n",
      " 'Split': {'genre': 'Drama'},\n",
      " 'The Lego Batman Movie': {'genre': 'Fantasy'},\n",
      " 'Underworld: Blood Wars': {'genre': 'Action'},\n",
      " 'time': '2017-03-07 18:50:44'}\n",
      "\n",
      "\n",
      "{'A Cure for Wellness': {'genre': 'Drama'},\n",
      " 'Beauty and the Beast': {'genre': 'Fantasy'},\n",
      " 'Get Out': {'genre': 'Comedy'},\n",
      " 'Ghost in the Shell': {'genre': 'Action'},\n",
      " 'Gold': {'genre': 'Adventure'},\n",
      " 'Hidden Figures': {'genre': 'History'},\n",
      " 'John Wick: Chapter 2': {'genre': 'Thriller'},\n",
      " 'Keeping Up with the Joneses': {'genre': 'Action'},\n",
      " 'Kong: Skull Island': {'genre': 'Science Fiction'},\n",
      " 'Land of Mine': {'genre': 'Drama'},\n",
      " 'Life': {'genre': 'Horror'},\n",
      " 'Moana': {'genre': 'Adventure'},\n",
      " 'Raw': {'genre': 'Horror'},\n",
      " 'Split': {'genre': 'Drama'},\n",
      " 'T2 Trainspotting': {'genre': 'Crime'},\n",
      " 'The Founder': {'genre': 'Drama'},\n",
      " 'The Lego Batman Movie': {'genre': 'Fantasy'},\n",
      " 'The Shack': {'genre': 'Drama'},\n",
      " 'Underworld: Blood Wars': {'genre': 'Action'},\n",
      " 'Why Him?': {'genre': 'Comedy'},\n",
      " 'time': '2017-03-07 18:50:44'}\n"
     ]
    }
   ],
   "source": [
    "pprint(now_playing)\n",
    "print('\\n')\n",
    "pprint(upcoming)"
   ]
  },
  {
   "cell_type": "markdown",
   "metadata": {},
   "source": [
    "----\n",
    "## Utilize `IMDbpy` to retrieve necessary *MPAA ratings* for movies"
   ]
  },
  {
   "cell_type": "code",
   "execution_count": 52,
   "metadata": {
    "collapsed": false
   },
   "outputs": [],
   "source": [
    "from imdb import IMDb\n",
    "conn = IMDb()"
   ]
  },
  {
   "cell_type": "code",
   "execution_count": 70,
   "metadata": {
    "collapsed": false
   },
   "outputs": [],
   "source": [
    "def collect_mpaa(conn, dict_name):\n",
    "    \n",
    "    for title in dict_name.keys():\n",
    "        if title != 'time':\n",
    "            try:\n",
    "                mov_title = conn.search_movie(title)[0]\n",
    "                conn.update(mov_title)\n",
    "                rating = mov_title[\"mpaa\"]\n",
    "                dict_name[title][\"rated\"] = rating.split(' ')[1].encode('utf-8')\n",
    "            except KeyError as e:\n",
    "                continue\n",
    "    \n",
    "    return(dict_name)"
   ]
  },
  {
   "cell_type": "code",
   "execution_count": null,
   "metadata": {
    "collapsed": true
   },
   "outputs": [],
   "source": []
  }
 ],
 "metadata": {
  "anaconda-cloud": {},
  "kernelspec": {
   "display_name": "Python [conda env:dsci6007]",
   "language": "python",
   "name": "conda-env-dsci6007-py"
  },
  "language_info": {
   "codemirror_mode": {
    "name": "ipython",
    "version": 2
   },
   "file_extension": ".py",
   "mimetype": "text/x-python",
   "name": "python",
   "nbconvert_exporter": "python",
   "pygments_lexer": "ipython2",
   "version": "2.7.12"
  }
 },
 "nbformat": 4,
 "nbformat_minor": 2
}
