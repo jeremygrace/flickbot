{
 "cells": [
  {
   "cell_type": "code",
   "execution_count": 21,
   "metadata": {
    "collapsed": false,
    "deletable": true,
    "editable": true
   },
   "outputs": [],
   "source": [
    "import os\n",
    "import yaml\n",
    "import pandas\n",
    "import psycopg2\n",
    "import numpy as np\n",
    "from pyspark import SparkConf, SparkContext\n",
    "from pyspark.sql import SparkSession"
   ]
  },
  {
   "cell_type": "code",
   "execution_count": 25,
   "metadata": {
    "collapsed": false,
    "deletable": true,
    "editable": true
   },
   "outputs": [],
   "source": [
    "def perform_joins(movies, trailers):\n",
    "    return movies.join(trailers, ['title'])\n",
    "\n",
    "\n",
    "def send_to_RDS(conn, mov, table):\n",
    "    cur = conn.cursor()  \n",
    "    cur.execute(\"DELETE FROM \" + table)\n",
    "    conn.commit()\n",
    "    \n",
    "    mov = mov.toPandas()\n",
    "    mov.fillna(value=np.nan, inplace=True)\n",
    "    \n",
    "    for i in range(len(mov)):\n",
    "#         for j in mov.columns:\n",
    "#             mov[j] = mov[j].map(lambda x: x.encode('utf-8'))\n",
    "        m = mov.iloc[i].values\n",
    "        \n",
    "        cur.execute(\"INSERT INTO \" + table +\" (title, genre, rated, timestamp,\\\n",
    "                    url) VALUES ('{}', '{}', '{}', '{}', '{}')\".format(*m))\n",
    "        conn.commit()"
   ]
  },
  {
   "cell_type": "code",
   "execution_count": 26,
   "metadata": {
    "collapsed": false,
    "deletable": true,
    "editable": true
   },
   "outputs": [],
   "source": [
    "spark_session = SparkSession.builder.master(\"local\").appName(\"Flickbot\").config(\"spark.some.config.option\", \"some-value\").getOrCreate()\n",
    "credentials = yaml.load(open(os.path.expanduser('~/bot-creds.yaml')))\n",
    "conn = psycopg2.connect(database=credentials['postgres_bot'].get('dbase'),\n",
    "                        user=credentials['postgres_bot'].get('user'),\n",
    "                        host=credentials['postgres_bot'].get('host'),\n",
    "                        port=credentials[\"postgres_bot\"].get(\"port\"),\n",
    "                        password=credentials['postgres_bot'].get('pass'))"
   ]
  },
  {
   "cell_type": "code",
   "execution_count": 27,
   "metadata": {
    "collapsed": false,
    "deletable": true,
    "editable": true
   },
   "outputs": [],
   "source": [
    "up = spark_session.read.json(\"s3a://flickbot-api/upcoming.json\")\n",
    "now = spark_session.read.json(\"s3a://flickbot-api/now_playing.json\")\n",
    "coming_trailers = spark_session.read.json(\"s3a://flickbot-api/coming_trailers.json\")\n",
    "now_trailers = spark_session.read.json(\"s3a://flickbot-api/now_trailers.json\")\n",
    "in_theaters = perform_joins(now, now_trailers)\n",
    "coming_soon = perform_joins(up, coming_trailers)\n",
    "send_to_RDS(conn, in_theaters, \"in_theaters\")\n",
    "send_to_RDS(conn, coming_soon, \"coming_soon\")"
   ]
  },
  {
   "cell_type": "code",
   "execution_count": null,
   "metadata": {
    "collapsed": true,
    "deletable": true,
    "editable": true
   },
   "outputs": [],
   "source": []
  }
 ],
 "metadata": {
  "kernelspec": {
   "display_name": "Python 2",
   "language": "python",
   "name": "python2"
  },
  "language_info": {
   "codemirror_mode": {
    "name": "ipython",
    "version": 2
   },
   "file_extension": ".py",
   "mimetype": "text/x-python",
   "name": "python",
   "nbconvert_exporter": "python",
   "pygments_lexer": "ipython2",
   "version": "2.7.12"
  }
 },
 "nbformat": 4,
 "nbformat_minor": 2
}
