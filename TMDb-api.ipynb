{
 "cells": [
  {
   "cell_type": "code",
   "execution_count": 5,
   "metadata": {
    "collapsed": true
   },
   "outputs": [],
   "source": [
    "import json\n",
    "import requests\n",
    "from pprint import pprint"
   ]
  },
  {
   "cell_type": "code",
   "execution_count": 73,
   "metadata": {
    "collapsed": false
   },
   "outputs": [],
   "source": [
    "in_theaters = \"https://api.themoviedb.org/3/movie/now_playing?api_key=95c58b7a3d4467f15e5af2ff0c2e61b6&language=en-US&page=1\"\n",
    "coming_soon = \"https://api.themoviedb.org/3/movie/upcoming?api_key=95c58b7a3d4467f15e5af2ff0c2e61b6&language=en-US&page=1\"\n"
   ]
  },
  {
   "cell_type": "code",
   "execution_count": 74,
   "metadata": {
    "collapsed": true
   },
   "outputs": [],
   "source": [
    "genres_url = \"https://api.themoviedb.org/3/genre/movie/list?api_key=95c58b7a3d4467f15e5af2ff0c2e61b6&language=en-US\""
   ]
  },
  {
   "cell_type": "code",
   "execution_count": 75,
   "metadata": {
    "collapsed": false,
    "scrolled": false
   },
   "outputs": [],
   "source": [
    "def pull_movie_data(url, dict_name, genres_url):\n",
    "    \n",
    "    payload1 = {}\n",
    "    payload2 = {}\n",
    "    dict_name = {}\n",
    "    simply_dict = {}\n",
    "    \n",
    "    mov_response = requests.request(\"GET\", url, data=payload1)\n",
    "    genre_response = requests.request(\"GET\", genres_url, data=payload2 )\n",
    "    \n",
    "    mov_payload = json.loads(mov_response.text)\n",
    "    genre_payload = json.loads(genre_response.text)\n",
    "    \n",
    "    for genre in genre_payload['genres']:\n",
    "        simply_dict[genre['id']] = genre['name'].encode('utf-8')\n",
    "    \n",
    "    for movie in mov_payload['results']:\n",
    "        for key, val in simply_dict.items():\n",
    "            if key == movie['genre_ids'][0]:\n",
    "                genre = val\n",
    "        dict_name[movie['title'].encode('utf-8')] = {'genre': genre}\n",
    "    return(dict_name)\n"
   ]
  },
  {
   "cell_type": "code",
   "execution_count": 76,
   "metadata": {
    "collapsed": false
   },
   "outputs": [],
   "source": [
    "now_playing = pull_movie_data(in_theaters, 'now_playing', genres_url)\n",
    "# print('\\n')\n",
    "upcoming = pull_movie_data(coming_soon, 'upcoming', genres_url)"
   ]
  },
  {
   "cell_type": "markdown",
   "metadata": {},
   "source": [
    "----\n",
    "## Utilize `IMDbpy` to retrieve necessary *MPAA ratings* for movies"
   ]
  },
  {
   "cell_type": "code",
   "execution_count": 77,
   "metadata": {
    "collapsed": false
   },
   "outputs": [],
   "source": [
    "from imdb import IMDb\n",
    "conn = IMDb()"
   ]
  },
  {
   "cell_type": "code",
   "execution_count": 82,
   "metadata": {
    "collapsed": false
   },
   "outputs": [],
   "source": [
    "def collect_mpaa(conn, dict_name):\n",
    "    \n",
    "    for title in dict_name.keys():\n",
    "        mov_title = conn.search_movie(title)[0]\n",
    "        conn.update(mov_title)\n",
    "        rated = mov_title['mpaa']\n",
    "        mpaa = rated.split(' ')[1].encode('utf-8')\n",
    "        dict_name[title]['rated'] = mpaa\n",
    "    \n",
    "    pprint(dict_name)"
   ]
  },
  {
   "cell_type": "code",
   "execution_count": 84,
   "metadata": {
    "collapsed": false
   },
   "outputs": [
    {
     "name": "stdout",
     "output_type": "stream",
     "text": [
      "{'Allied': {'genre': 'Action', 'rated': 'R'},\n",
      " 'Arrival': {'genre': 'Drama', 'rated': 'PG-13'},\n",
      " 'Fences': {'genre': 'Drama', 'rated': 'PG-13'},\n",
      " 'Fifty Shades Darker': {'genre': 'Drama', 'rated': 'R'},\n",
      " 'Get Out': {'genre': 'Horror', 'rated': 'R'},\n",
      " 'Hacksaw Ridge': {'genre': 'Drama', 'rated': 'R'},\n",
      " 'Jackie': {'genre': 'Drama', 'rated': 'R'},\n",
      " 'John Wick: Chapter 2': {'genre': 'Thriller', 'rated': 'R'},\n",
      " 'La La Land': {'genre': 'Drama', 'rated': 'PG-13'},\n",
      " 'Lion': {'genre': 'Drama', 'rated': 'PG-13'},\n",
      " 'Logan': {'genre': 'Action', 'rated': 'R'},\n",
      " 'Manchester by the Sea': {'genre': 'Drama', 'rated': 'R'},\n",
      " \"Miss Peregrine's Home for Peculiar Children\": {'genre': 'Drama',\n",
      "                                                 'rated': 'PG-13'},\n",
      " 'Moonlight': {'genre': 'Drama', 'rated': 'R'},\n",
      " 'Nocturnal Animals': {'genre': 'Drama', 'rated': 'R'},\n",
      " 'Rings': {'genre': 'Horror', 'rated': 'PG-13'},\n",
      " 'Split': {'genre': 'Drama', 'rated': 'PG-13'},\n",
      " 'The Great Wall': {'genre': 'Action', 'rated': 'PG-13'},\n",
      " 'The Lego Batman Movie': {'genre': 'Fantasy', 'rated': 'PG'},\n",
      " 'Underworld: Blood Wars': {'genre': 'Action', 'rated': 'R'}}\n",
      "\n",
      "\n",
      "{'A Cure for Wellness': {'genre': 'Drama', 'rated': 'R'},\n",
      " 'A Monster Calls': {'genre': 'Drama', 'rated': 'PG-13'},\n",
      " 'Beauty and the Beast': {'genre': 'Fantasy', 'rated': 'PG'},\n",
      " 'Fences': {'genre': 'Drama', 'rated': 'PG-13'},\n",
      " 'Hidden Figures': {'genre': 'History', 'rated': 'PG'},\n",
      " 'John Wick: Chapter 2': {'genre': 'Thriller', 'rated': 'R'},\n",
      " 'Keeping Up with the Joneses': {'genre': 'Action', 'rated': 'PG-13'},\n",
      " 'Kong: Skull Island': {'genre': 'Science Fiction', 'rated': 'PG-13'},\n",
      " 'Lion': {'genre': 'Drama', 'rated': 'PG-13'},\n",
      " 'Logan': {'genre': 'Action', 'rated': 'R'},\n",
      " 'Manchester by the Sea': {'genre': 'Drama', 'rated': 'R'},\n",
      " 'Moana': {'genre': 'Adventure', 'rated': 'PG'},\n",
      " 'Moonlight': {'genre': 'Drama', 'rated': 'R'},\n",
      " 'Nocturnal Animals': {'genre': 'Drama', 'rated': 'R'},\n",
      " 'Patriots Day': {'genre': 'Drama', 'rated': 'R'},\n",
      " 'Silence': {'genre': 'Drama', 'rated': 'R'},\n",
      " 'Split': {'genre': 'Drama', 'rated': 'PG-13'},\n",
      " 'T2 Trainspotting': {'genre': 'Crime', 'rated': 'R'},\n",
      " 'The Founder': {'genre': 'Drama', 'rated': 'PG-13'},\n",
      " 'The Salesman': {'genre': 'Drama', 'rated': 'PG-13'}}\n"
     ]
    }
   ],
   "source": [
    "collect_mpaa(conn, now_playing)\n",
    "print('\\n')\n",
    "collect_mpaa(conn, upcoming)"
   ]
  }
 ],
 "metadata": {
  "anaconda-cloud": {},
  "kernelspec": {
   "display_name": "Python [conda env:dsci6007]",
   "language": "python",
   "name": "conda-env-dsci6007-py"
  },
  "language_info": {
   "codemirror_mode": {
    "name": "ipython",
    "version": 2
   },
   "file_extension": ".py",
   "mimetype": "text/x-python",
   "name": "python",
   "nbconvert_exporter": "python",
   "pygments_lexer": "ipython2",
   "version": "2.7.12"
  }
 },
 "nbformat": 4,
 "nbformat_minor": 2
}
